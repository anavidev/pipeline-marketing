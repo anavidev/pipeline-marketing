{
 "cells": [
  {
   "cell_type": "code",
   "execution_count": null,
   "id": "1b18e753-8b4b-432e-8fa9-581e7b6ac1e8",
   "metadata": {},
   "outputs": [],
   "source": []
  }
 ],
 "metadata": {
  "kernelspec": {
   "display_name": "",
   "name": ""
  },
  "language_info": {
   "name": ""
  }
 },
 "nbformat": 4,
 "nbformat_minor": 5
}
